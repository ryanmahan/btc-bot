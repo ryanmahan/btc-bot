{
 "metadata": {
  "language_info": {
   "codemirror_mode": {
    "name": "ipython",
    "version": 3
   },
   "file_extension": ".py",
   "mimetype": "text/x-python",
   "name": "python",
   "nbconvert_exporter": "python",
   "pygments_lexer": "ipython3",
   "version": "3.8.6-final"
  },
  "orig_nbformat": 2,
  "kernelspec": {
   "name": "python3",
   "display_name": "Python 3",
   "language": "python"
  }
 },
 "nbformat": 4,
 "nbformat_minor": 2,
 "cells": [
  {
   "source": [
    "import pandas as pd \n",
    "import os, glob\n",
    "import matplotlib.pyplot as plt \n",
    "import numpy as np\n",
    "from tensorflow.keras.preprocessing import timeseries_dataset_from_array\n",
    "from tensorflow.keras.preprocessing.sequence import TimeseriesGenerator"
   ],
   "cell_type": "code",
   "metadata": {},
   "execution_count": 1,
   "outputs": []
  },
  {
   "cell_type": "code",
   "execution_count": 2,
   "metadata": {},
   "outputs": [
    {
     "output_type": "execute_result",
     "data": {
      "text/plain": [
       "                            Open        Close    Volume         High  \\\n",
       "Date                                                                   \n",
       "2019-01-01 00:00:00 -7486.848425 -7484.247455 -0.592268 -7490.327589   \n",
       "2019-01-01 00:01:00 -7484.198425 -7489.577455 -1.425867 -7490.327589   \n",
       "2019-01-01 00:02:00 -7489.528425 -7489.747455 -1.428937 -7495.657589   \n",
       "2019-01-01 00:03:00 -7489.698425 -7488.037455 -0.399129 -7494.117589   \n",
       "2019-01-01 00:04:00 -7487.988425 -7488.037455 -1.430040 -7494.117589   \n",
       "\n",
       "                             Low      diff  inc  \n",
       "Date                                             \n",
       "2019-01-01 00:00:00 -7480.784453  0.000717    1  \n",
       "2019-01-01 00:01:00 -7483.464453 -0.001445    0  \n",
       "2019-01-01 00:02:00 -7483.634453 -0.000046    0  \n",
       "2019-01-01 00:03:00 -7483.634453  0.000463    1  \n",
       "2019-01-01 00:04:00 -7481.924453  0.000000    0  "
      ],
      "text/html": "<div>\n<style scoped>\n    .dataframe tbody tr th:only-of-type {\n        vertical-align: middle;\n    }\n\n    .dataframe tbody tr th {\n        vertical-align: top;\n    }\n\n    .dataframe thead th {\n        text-align: right;\n    }\n</style>\n<table border=\"1\" class=\"dataframe\">\n  <thead>\n    <tr style=\"text-align: right;\">\n      <th></th>\n      <th>Open</th>\n      <th>Close</th>\n      <th>Volume</th>\n      <th>High</th>\n      <th>Low</th>\n      <th>diff</th>\n      <th>inc</th>\n    </tr>\n    <tr>\n      <th>Date</th>\n      <th></th>\n      <th></th>\n      <th></th>\n      <th></th>\n      <th></th>\n      <th></th>\n      <th></th>\n    </tr>\n  </thead>\n  <tbody>\n    <tr>\n      <th>2019-01-01 00:00:00</th>\n      <td>-7486.848425</td>\n      <td>-7484.247455</td>\n      <td>-0.592268</td>\n      <td>-7490.327589</td>\n      <td>-7480.784453</td>\n      <td>0.000717</td>\n      <td>1</td>\n    </tr>\n    <tr>\n      <th>2019-01-01 00:01:00</th>\n      <td>-7484.198425</td>\n      <td>-7489.577455</td>\n      <td>-1.425867</td>\n      <td>-7490.327589</td>\n      <td>-7483.464453</td>\n      <td>-0.001445</td>\n      <td>0</td>\n    </tr>\n    <tr>\n      <th>2019-01-01 00:02:00</th>\n      <td>-7489.528425</td>\n      <td>-7489.747455</td>\n      <td>-1.428937</td>\n      <td>-7495.657589</td>\n      <td>-7483.634453</td>\n      <td>-0.000046</td>\n      <td>0</td>\n    </tr>\n    <tr>\n      <th>2019-01-01 00:03:00</th>\n      <td>-7489.698425</td>\n      <td>-7488.037455</td>\n      <td>-0.399129</td>\n      <td>-7494.117589</td>\n      <td>-7483.634453</td>\n      <td>0.000463</td>\n      <td>1</td>\n    </tr>\n    <tr>\n      <th>2019-01-01 00:04:00</th>\n      <td>-7487.988425</td>\n      <td>-7488.037455</td>\n      <td>-1.430040</td>\n      <td>-7494.117589</td>\n      <td>-7481.924453</td>\n      <td>0.000000</td>\n      <td>0</td>\n    </tr>\n  </tbody>\n</table>\n</div>"
     },
     "metadata": {},
     "execution_count": 2
    }
   ],
   "source": [
    "df = pd.concat((pd.read_csv(f, engine=\"python\") for f in glob.glob(r\"gemini_BTCUSD_20[12][90]*.csv\")))\n",
    "df[\"Date\"] = pd.to_datetime(df[\"Date\"], format=\"%Y-%m-%d %H:%M:%S\")\n",
    "df = df.drop([\"Symbol\", \"Unix Timestamp\"], axis=1)\n",
    "df = df.resample(\"1T\", on=\"Date\").agg({\"Open\": \"first\", \"Close\": \"last\", \"Volume\": np.sum, \"High\": np.max, \"Low\": np.min})\n",
    "\n",
    "# df = df.drop(\"Date\", axis=1)\n",
    "df[\"diff\"] = (df[\"Close\"] - df[\"Open\"])/df[\"Close\"]\n",
    "df[\"inc\"] = df[\"diff\"].apply(lambda x: 1 if x > 0 else 0)\n",
    "df[\"dec\"] = df[\"diff\"].apply(lambda x: 0 if x > 0 else 1)\n",
    "# df[\"Close\"] = df[\"Close\"] - np.mean(df[\"Close\"])\n",
    "# df[\"Open\"] = df[\"Open\"] - np.mean(df[\"Open\"])\n",
    "# df[\"Volume\"] = df[\"Volume\"] - np.mean(df[\"Volume\"])\n",
    "# df[\"Low\"] = df[\"Low\"] - np.mean(df[\"Low\"])\n",
    "# df[\"High\"] = df[\"High\"] - np.mean(df[\"High\"])\n",
    "df.dropna()\n",
    "df.head()"
   ]
  },
  {
   "cell_type": "code",
   "execution_count": 3,
   "metadata": {},
   "outputs": [],
   "source": [
    "def split_dataset(dataset, split=2/3):\n",
    "    train_size = int(len(dataset) * split)\n",
    "    test_size = len(dataset) - train_size\n",
    "    print(train_size, test_size)\n",
    "    train = dataset[:train_size]\n",
    "    test = dataset[train_size:]\n",
    "    return train, test"
   ]
  },
  {
   "cell_type": "code",
   "execution_count": 28,
   "metadata": {},
   "outputs": [
    {
     "output_type": "stream",
     "name": "stdout",
     "text": [
      "749762 374881\n",
      "                            Open        Close    Volume         High  \\\n",
      "Date                                                                   \n",
      "2019-01-01 00:00:00 -7486.848425 -7484.247455 -0.592268 -7490.327589   \n",
      "2019-01-01 00:01:00 -7484.198425 -7489.577455 -1.425867 -7490.327589   \n",
      "2019-01-01 00:02:00 -7489.528425 -7489.747455 -1.428937 -7495.657589   \n",
      "2019-01-01 00:03:00 -7489.698425 -7488.037455 -0.399129 -7494.117589   \n",
      "2019-01-01 00:04:00 -7487.988425 -7488.037455 -1.430040 -7494.117589   \n",
      "\n",
      "                             Low      diff  inc  \n",
      "Date                                             \n",
      "2019-01-01 00:00:00 -7480.784453  0.000717    1  \n",
      "2019-01-01 00:01:00 -7483.464453 -0.001445    0  \n",
      "2019-01-01 00:02:00 -7483.634453 -0.000046    0  \n",
      "2019-01-01 00:03:00 -7483.634453  0.000463    1  \n",
      "2019-01-01 00:04:00 -7481.924453  0.000000    0  \n",
      "1464\n",
      "(array([[[-7.46133842e+03, -7.45788745e+03, -1.07574158e+00, ...,\n",
      "         -7.45527445e+03,  9.40516370e-04,  1.00000000e+00],\n",
      "        [-7.45783842e+03, -7.45788745e+03, -1.43004033e+00, ...,\n",
      "         -7.45177445e+03,  0.00000000e+00,  0.00000000e+00],\n",
      "        [-7.45783842e+03, -7.45788745e+03, -1.43004033e+00, ...,\n",
      "         -7.45177445e+03,  0.00000000e+00,  0.00000000e+00],\n",
      "        ...,\n",
      "        [-7.48054842e+03, -7.48059745e+03, -1.43004033e+00, ...,\n",
      "         -7.47448445e+03,  0.00000000e+00,  0.00000000e+00],\n",
      "        [-7.48054842e+03, -7.48189745e+03, -9.30040334e-01, ...,\n",
      "         -7.47578445e+03, -3.51603175e-04,  0.00000000e+00],\n",
      "        [-7.48184842e+03, -7.47999745e+03, -4.10386494e-01, ...,\n",
      "         -7.47578445e+03,  5.13617625e-04,  1.00000000e+00]],\n",
      "\n",
      "       [[-7.45783842e+03, -7.45788745e+03, -1.43004033e+00, ...,\n",
      "         -7.45177445e+03,  0.00000000e+00,  0.00000000e+00],\n",
      "        [-7.45783842e+03, -7.45788745e+03, -1.43004033e+00, ...,\n",
      "         -7.45177445e+03,  0.00000000e+00,  0.00000000e+00],\n",
      "        [-7.45783842e+03, -7.46315745e+03, -1.42323615e+00, ...,\n",
      "         -7.45704445e+03, -1.41815726e-03,  0.00000000e+00],\n",
      "        ...,\n",
      "        [-7.48054842e+03, -7.48189745e+03, -9.30040334e-01, ...,\n",
      "         -7.47578445e+03, -3.51603175e-04,  0.00000000e+00],\n",
      "        [-7.48184842e+03, -7.47999745e+03, -4.10386494e-01, ...,\n",
      "         -7.47578445e+03,  5.13617625e-04,  1.00000000e+00],\n",
      "        [-7.47994842e+03, -7.47999745e+03, -1.43004033e+00, ...,\n",
      "         -7.47388445e+03,  0.00000000e+00,  0.00000000e+00]],\n",
      "\n",
      "       [[-7.45783842e+03, -7.45788745e+03, -1.43004033e+00, ...,\n",
      "         -7.45177445e+03,  0.00000000e+00,  0.00000000e+00],\n",
      "        [-7.45783842e+03, -7.46315745e+03, -1.42323615e+00, ...,\n",
      "         -7.45704445e+03, -1.41815726e-03,  0.00000000e+00],\n",
      "        [-7.46310842e+03, -7.46315745e+03, -1.43004033e+00, ...,\n",
      "         -7.45704445e+03,  0.00000000e+00,  0.00000000e+00],\n",
      "        ...,\n",
      "        [-7.48184842e+03, -7.47999745e+03, -4.10386494e-01, ...,\n",
      "         -7.47578445e+03,  5.13617625e-04,  1.00000000e+00],\n",
      "        [-7.47994842e+03, -7.47999745e+03, -1.43004033e+00, ...,\n",
      "         -7.47388445e+03,  0.00000000e+00,  0.00000000e+00],\n",
      "        [-7.47994842e+03, -7.48195745e+03, -9.30040334e-01, ...,\n",
      "         -7.47584445e+03, -5.30118005e-04,  0.00000000e+00]],\n",
      "\n",
      "       ...,\n",
      "\n",
      "       [[-7.48812842e+03, -7.48801745e+03, -1.33004033e+00, ...,\n",
      "         -7.48206445e+03,  4.33459849e-05,  1.00000000e+00],\n",
      "        [-7.48796842e+03, -7.48801745e+03, -1.43004033e+00, ...,\n",
      "         -7.48190445e+03,  0.00000000e+00,  0.00000000e+00],\n",
      "        [-7.48796842e+03, -7.48924745e+03, -1.28246581e+00, ...,\n",
      "         -7.48313445e+03, -3.33333333e-04,  0.00000000e+00],\n",
      "        ...,\n",
      "        [-7.45868842e+03, -7.45873745e+03, -1.43004033e+00, ...,\n",
      "         -7.45262445e+03,  0.00000000e+00,  0.00000000e+00],\n",
      "        [-7.45868842e+03, -7.45873745e+03, -1.43004033e+00, ...,\n",
      "         -7.45262445e+03,  0.00000000e+00,  0.00000000e+00],\n",
      "        [-7.45868842e+03, -7.45924745e+03, -1.38746649e+00, ...,\n",
      "         -7.45313445e+03, -1.37096774e-04,  0.00000000e+00]],\n",
      "\n",
      "       [[-7.48796842e+03, -7.48801745e+03, -1.43004033e+00, ...,\n",
      "         -7.48190445e+03,  0.00000000e+00,  0.00000000e+00],\n",
      "        [-7.48796842e+03, -7.48924745e+03, -1.28246581e+00, ...,\n",
      "         -7.48313445e+03, -3.33333333e-04,  0.00000000e+00],\n",
      "        [-7.48919842e+03, -7.48924745e+03, -1.43004033e+00, ...,\n",
      "         -7.48313445e+03,  0.00000000e+00,  0.00000000e+00],\n",
      "        ...,\n",
      "        [-7.45868842e+03, -7.45873745e+03, -1.43004033e+00, ...,\n",
      "         -7.45262445e+03,  0.00000000e+00,  0.00000000e+00],\n",
      "        [-7.45868842e+03, -7.45924745e+03, -1.38746649e+00, ...,\n",
      "         -7.45313445e+03, -1.37096774e-04,  0.00000000e+00],\n",
      "        [-7.45919842e+03, -7.45946745e+03, -4.34333094e-01, ...,\n",
      "         -7.45335445e+03, -5.91432827e-05,  0.00000000e+00]],\n",
      "\n",
      "       [[-7.48796842e+03, -7.48924745e+03, -1.28246581e+00, ...,\n",
      "         -7.48313445e+03, -3.33333333e-04,  0.00000000e+00],\n",
      "        [-7.48919842e+03, -7.48924745e+03, -1.43004033e+00, ...,\n",
      "         -7.48313445e+03,  0.00000000e+00,  0.00000000e+00],\n",
      "        [-7.48919842e+03, -7.48924745e+03, -1.43004033e+00, ...,\n",
      "         -7.48313445e+03,  0.00000000e+00,  0.00000000e+00],\n",
      "        ...,\n",
      "        [-7.45868842e+03, -7.45924745e+03, -1.38746649e+00, ...,\n",
      "         -7.45313445e+03, -1.37096774e-04,  0.00000000e+00],\n",
      "        [-7.45919842e+03, -7.45946745e+03, -4.34333094e-01, ...,\n",
      "         -7.45335445e+03, -5.91432827e-05,  0.00000000e+00],\n",
      "        [-7.45941842e+03, -7.45945745e+03, -1.07848254e+00, ...,\n",
      "         -7.45335445e+03,  2.68832380e-06,  1.00000000e+00]]]), array([[1, 0],\n",
      "       [1, 0],\n",
      "       [0, 1],\n",
      "       ...,\n",
      "       [1, 0],\n",
      "       [0, 1],\n",
      "       [1, 0]]))\n"
     ]
    }
   ],
   "source": [
    "\n",
    "train, test = split_dataset(df);\n",
    "print(train.head())\n",
    "\n",
    "y = train[\"inc\"].apply(lambda x: [0, 1] if x == 1 else [1, 0])\n",
    "len(train)\n",
    "train_generator = TimeseriesGenerator(train.to_numpy(), train[\"inc\"].apply(lambda x: [0, 1] if x == 1 else [1, 0]), length=360, batch_size=512)\n",
    "test_generator = TimeseriesGenerator(test.to_numpy(), test[\"inc\"].apply(lambda x: [0, 1] if x == 1 else [1, 0]), length=360, batch_size=512)\n",
    "print(len(train_generator))\n",
    "print(train_generator[1])\n"
   ]
  },
  {
   "cell_type": "code",
   "execution_count": 21,
   "metadata": {},
   "outputs": [
    {
     "output_type": "stream",
     "name": "stdout",
     "text": [
      "1464/1464 [==============================] - 301s 205ms/step - loss: 0.6392\n",
      "Model: \"sequential_4\"\n",
      "_________________________________________________________________\n",
      "Layer (type)                 Output Shape              Param #   \n",
      "=================================================================\n",
      "bidirectional_12 (Bidirectio (None, None, 256)         139264    \n",
      "_________________________________________________________________\n",
      "bidirectional_13 (Bidirectio (None, None, 128)         164352    \n",
      "_________________________________________________________________\n",
      "bidirectional_14 (Bidirectio (None, None, 64)          41216     \n",
      "_________________________________________________________________\n",
      "lstm_19 (LSTM)               (None, 16)                5184      \n",
      "_________________________________________________________________\n",
      "dropout_4 (Dropout)          (None, 16)                0         \n",
      "_________________________________________________________________\n",
      "dense_12 (Dense)             (None, 64)                1088      \n",
      "_________________________________________________________________\n",
      "dense_13 (Dense)             (None, 32)                2080      \n",
      "_________________________________________________________________\n",
      "dense_14 (Dense)             (None, 2)                 66        \n",
      "=================================================================\n",
      "Total params: 353,250\n",
      "Trainable params: 353,250\n",
      "Non-trainable params: 0\n",
      "_________________________________________________________________\n"
     ]
    }
   ],
   "source": [
    "from tensorflow.keras import models\n",
    "from tensorflow.keras.layers import Input, Dense, Bidirectional, LSTM, BatchNormalization, Dropout\n",
    "from tensorflow.keras import regularizers\n",
    "from tensorflow.keras.losses import BinaryCrossentropy, MeanAbsoluteError\n",
    "\n",
    "\n",
    "model = models.Sequential()\n",
    "# model.add(Input(shape=train_generator[0][0].shape))\n",
    "model.add(Bidirectional(LSTM(units=128, return_sequences=True)))\n",
    "model.add(Bidirectional(LSTM(units=64, return_sequences=True)))\n",
    "model.add(Bidirectional(LSTM(units=32, return_sequences=True)))\n",
    "model.add(LSTM(units=16))\n",
    "model.add(Dropout(.2))\n",
    "model.add(Dense(64, activation=\"relu\"))\n",
    "model.add(Dense(32, activation=\"relu\"))\n",
    "model.add(Dense(16, activation=\"relu\"))\n",
    "model.add(Dense(2, activation=\"softmax\"))\n",
    "model.compile(\"adam\", BinaryCrossentropy())\n",
    "model.fit(train_generator, epochs=1)\n",
    "model.summary()\n"
   ]
  },
  {
   "cell_type": "code",
   "execution_count": 31,
   "metadata": {},
   "outputs": [],
   "source": [
    "predictions = model.predict(test_generator)"
   ]
  },
  {
   "cell_type": "code",
   "execution_count": 32,
   "metadata": {},
   "outputs": [
    {
     "output_type": "execute_result",
     "data": {
      "text/plain": [
       "array([0.33491132, 0.6650887 ], dtype=float32)"
      ]
     },
     "metadata": {},
     "execution_count": 32
    },
    {
     "output_type": "display_data",
     "data": {
      "text/plain": "<Figure size 432x288 with 1 Axes>",
      "image/svg+xml": "<?xml version=\"1.0\" encoding=\"utf-8\" standalone=\"no\"?>\n<!DOCTYPE svg PUBLIC \"-//W3C//DTD SVG 1.1//EN\"\n  \"http://www.w3.org/Graphics/SVG/1.1/DTD/svg11.dtd\">\n<!-- Created with matplotlib (https://matplotlib.org/) -->\n<svg height=\"248.518125pt\" version=\"1.1\" viewBox=\"0 0 394.375 248.518125\" width=\"394.375pt\" xmlns=\"http://www.w3.org/2000/svg\" xmlns:xlink=\"http://www.w3.org/1999/xlink\">\n <metadata>\n  <rdf:RDF xmlns:cc=\"http://creativecommons.org/ns#\" xmlns:dc=\"http://purl.org/dc/elements/1.1/\" xmlns:rdf=\"http://www.w3.org/1999/02/22-rdf-syntax-ns#\">\n   <cc:Work>\n    <dc:type rdf:resource=\"http://purl.org/dc/dcmitype/StillImage\"/>\n    <dc:date>2021-02-27T23:21:33.100500</dc:date>\n    <dc:format>image/svg+xml</dc:format>\n    <dc:creator>\n     <cc:Agent>\n      <dc:title>Matplotlib v3.3.2, https://matplotlib.org/</dc:title>\n     </cc:Agent>\n    </dc:creator>\n   </cc:Work>\n  </rdf:RDF>\n </metadata>\n <defs>\n  <style type=\"text/css\">*{stroke-linecap:butt;stroke-linejoin:round;}</style>\n </defs>\n <g id=\"figure_1\">\n  <g id=\"patch_1\">\n   <path d=\"M 0 248.518125 \nL 394.375 248.518125 \nL 394.375 0 \nL 0 0 \nz\n\" style=\"fill:none;\"/>\n  </g>\n  <g id=\"axes_1\">\n   <g id=\"patch_2\">\n    <path d=\"M 52.375 224.64 \nL 387.175 224.64 \nL 387.175 7.2 \nL 52.375 7.2 \nz\n\" style=\"fill:#ffffff;\"/>\n   </g>\n   <g id=\"patch_3\">\n    <path clip-path=\"url(#p02d7026043)\" d=\"M 67.593182 224.64 \nL 80.016171 224.64 \nL 80.016171 224.64 \nL 67.593182 224.64 \nz\n\" style=\"fill:#1f77b4;\"/>\n   </g>\n   <g id=\"patch_4\">\n    <path clip-path=\"url(#p02d7026043)\" d=\"M 98.650712 224.64 \nL 111.073729 224.64 \nL 111.073729 224.64 \nL 98.650712 224.64 \nz\n\" style=\"fill:#1f77b4;\"/>\n   </g>\n   <g id=\"patch_5\">\n    <path clip-path=\"url(#p02d7026043)\" d=\"M 129.708242 224.64 \nL 142.131259 224.64 \nL 142.131259 224.64 \nL 129.708242 224.64 \nz\n\" style=\"fill:#1f77b4;\"/>\n   </g>\n   <g id=\"patch_6\">\n    <path clip-path=\"url(#p02d7026043)\" d=\"M 160.765744 224.64 \nL 173.188733 224.64 \nL 173.188733 224.64 \nL 160.765744 224.64 \nz\n\" style=\"fill:#1f77b4;\"/>\n   </g>\n   <g id=\"patch_7\">\n    <path clip-path=\"url(#p02d7026043)\" d=\"M 191.823245 224.64 \nL 204.246235 224.64 \nL 204.246235 224.64 \nL 191.823245 224.64 \nz\n\" style=\"fill:#1f77b4;\"/>\n   </g>\n   <g id=\"patch_8\">\n    <path clip-path=\"url(#p02d7026043)\" d=\"M 222.880775 224.64 \nL 235.303821 224.64 \nL 235.303821 224.64 \nL 222.880775 224.64 \nz\n\" style=\"fill:#1f77b4;\"/>\n   </g>\n   <g id=\"patch_9\">\n    <path clip-path=\"url(#p02d7026043)\" d=\"M 253.938305 224.64 \nL 266.361351 224.64 \nL 266.361351 224.64 \nL 253.938305 224.64 \nz\n\" style=\"fill:#1f77b4;\"/>\n   </g>\n   <g id=\"patch_10\">\n    <path clip-path=\"url(#p02d7026043)\" d=\"M 284.995835 224.64 \nL 297.418881 224.64 \nL 297.418881 224.64 \nL 284.995835 224.64 \nz\n\" style=\"fill:#1f77b4;\"/>\n   </g>\n   <g id=\"patch_11\">\n    <path clip-path=\"url(#p02d7026043)\" d=\"M 316.053365 224.64 \nL 328.476355 224.64 \nL 328.476355 224.64 \nL 316.053365 224.64 \nz\n\" style=\"fill:#1f77b4;\"/>\n   </g>\n   <g id=\"patch_12\">\n    <path clip-path=\"url(#p02d7026043)\" d=\"M 347.110839 224.64 \nL 359.533829 224.64 \nL 359.533829 17.554286 \nL 347.110839 17.554286 \nz\n\" style=\"fill:#1f77b4;\"/>\n   </g>\n   <g id=\"patch_13\">\n    <path clip-path=\"url(#p02d7026043)\" d=\"M 80.016199 224.64 \nL 92.439189 224.64 \nL 92.439189 17.554286 \nL 80.016199 17.554286 \nz\n\" style=\"fill:#ff7f0e;\"/>\n   </g>\n   <g id=\"patch_14\">\n    <path clip-path=\"url(#p02d7026043)\" d=\"M 111.073701 224.64 \nL 123.496719 224.64 \nL 123.496719 224.64 \nL 111.073701 224.64 \nz\n\" style=\"fill:#ff7f0e;\"/>\n   </g>\n   <g id=\"patch_15\">\n    <path clip-path=\"url(#p02d7026043)\" d=\"M 142.131231 224.64 \nL 154.554249 224.64 \nL 154.554249 224.64 \nL 142.131231 224.64 \nz\n\" style=\"fill:#ff7f0e;\"/>\n   </g>\n   <g id=\"patch_16\">\n    <path clip-path=\"url(#p02d7026043)\" d=\"M 173.188761 224.64 \nL 185.611751 224.64 \nL 185.611751 224.64 \nL 173.188761 224.64 \nz\n\" style=\"fill:#ff7f0e;\"/>\n   </g>\n   <g id=\"patch_17\">\n    <path clip-path=\"url(#p02d7026043)\" d=\"M 204.246263 224.64 \nL 216.669253 224.64 \nL 216.669253 224.64 \nL 204.246263 224.64 \nz\n\" style=\"fill:#ff7f0e;\"/>\n   </g>\n   <g id=\"patch_18\">\n    <path clip-path=\"url(#p02d7026043)\" d=\"M 235.303765 224.64 \nL 247.726811 224.64 \nL 247.726811 224.64 \nL 235.303765 224.64 \nz\n\" style=\"fill:#ff7f0e;\"/>\n   </g>\n   <g id=\"patch_19\">\n    <path clip-path=\"url(#p02d7026043)\" d=\"M 266.361295 224.64 \nL 278.784341 224.64 \nL 278.784341 224.64 \nL 266.361295 224.64 \nz\n\" style=\"fill:#ff7f0e;\"/>\n   </g>\n   <g id=\"patch_20\">\n    <path clip-path=\"url(#p02d7026043)\" d=\"M 297.418825 224.64 \nL 309.84187 224.64 \nL 309.84187 224.64 \nL 297.418825 224.64 \nz\n\" style=\"fill:#ff7f0e;\"/>\n   </g>\n   <g id=\"patch_21\">\n    <path clip-path=\"url(#p02d7026043)\" d=\"M 328.476355 224.64 \nL 340.899344 224.64 \nL 340.899344 224.64 \nL 328.476355 224.64 \nz\n\" style=\"fill:#ff7f0e;\"/>\n   </g>\n   <g id=\"patch_22\">\n    <path clip-path=\"url(#p02d7026043)\" d=\"M 359.533829 224.64 \nL 371.956818 224.64 \nL 371.956818 224.64 \nL 359.533829 224.64 \nz\n\" style=\"fill:#ff7f0e;\"/>\n   </g>\n   <g id=\"matplotlib.axis_1\">\n    <g id=\"xtick_1\">\n     <g id=\"line2d_1\">\n      <defs>\n       <path d=\"M 0 0 \nL 0 3.5 \n\" id=\"mf2e95e3bca\" style=\"stroke:#000000;stroke-width:0.8;\"/>\n      </defs>\n      <g>\n       <use style=\"stroke:#000000;stroke-width:0.8;\" x=\"78.680321\" xlink:href=\"#mf2e95e3bca\" y=\"224.64\"/>\n      </g>\n     </g>\n     <g id=\"text_1\">\n      <!-- 0.35 -->\n      <g transform=\"translate(67.547508 239.238437)scale(0.1 -0.1)\">\n       <defs>\n        <path d=\"M 31.78125 66.40625 \nQ 24.171875 66.40625 20.328125 58.90625 \nQ 16.5 51.421875 16.5 36.375 \nQ 16.5 21.390625 20.328125 13.890625 \nQ 24.171875 6.390625 31.78125 6.390625 \nQ 39.453125 6.390625 43.28125 13.890625 \nQ 47.125 21.390625 47.125 36.375 \nQ 47.125 51.421875 43.28125 58.90625 \nQ 39.453125 66.40625 31.78125 66.40625 \nz\nM 31.78125 74.21875 \nQ 44.046875 74.21875 50.515625 64.515625 \nQ 56.984375 54.828125 56.984375 36.375 \nQ 56.984375 17.96875 50.515625 8.265625 \nQ 44.046875 -1.421875 31.78125 -1.421875 \nQ 19.53125 -1.421875 13.0625 8.265625 \nQ 6.59375 17.96875 6.59375 36.375 \nQ 6.59375 54.828125 13.0625 64.515625 \nQ 19.53125 74.21875 31.78125 74.21875 \nz\n\" id=\"DejaVuSans-48\"/>\n        <path d=\"M 10.6875 12.40625 \nL 21 12.40625 \nL 21 0 \nL 10.6875 0 \nz\n\" id=\"DejaVuSans-46\"/>\n        <path d=\"M 40.578125 39.3125 \nQ 47.65625 37.796875 51.625 33 \nQ 55.609375 28.21875 55.609375 21.1875 \nQ 55.609375 10.40625 48.1875 4.484375 \nQ 40.765625 -1.421875 27.09375 -1.421875 \nQ 22.515625 -1.421875 17.65625 -0.515625 \nQ 12.796875 0.390625 7.625 2.203125 \nL 7.625 11.71875 \nQ 11.71875 9.328125 16.59375 8.109375 \nQ 21.484375 6.890625 26.8125 6.890625 \nQ 36.078125 6.890625 40.9375 10.546875 \nQ 45.796875 14.203125 45.796875 21.1875 \nQ 45.796875 27.640625 41.28125 31.265625 \nQ 36.765625 34.90625 28.71875 34.90625 \nL 20.21875 34.90625 \nL 20.21875 43.015625 \nL 29.109375 43.015625 \nQ 36.375 43.015625 40.234375 45.921875 \nQ 44.09375 48.828125 44.09375 54.296875 \nQ 44.09375 59.90625 40.109375 62.90625 \nQ 36.140625 65.921875 28.71875 65.921875 \nQ 24.65625 65.921875 20.015625 65.03125 \nQ 15.375 64.15625 9.8125 62.3125 \nL 9.8125 71.09375 \nQ 15.4375 72.65625 20.34375 73.4375 \nQ 25.25 74.21875 29.59375 74.21875 \nQ 40.828125 74.21875 47.359375 69.109375 \nQ 53.90625 64.015625 53.90625 55.328125 \nQ 53.90625 49.265625 50.4375 45.09375 \nQ 46.96875 40.921875 40.578125 39.3125 \nz\n\" id=\"DejaVuSans-51\"/>\n        <path d=\"M 10.796875 72.90625 \nL 49.515625 72.90625 \nL 49.515625 64.59375 \nL 19.828125 64.59375 \nL 19.828125 46.734375 \nQ 21.96875 47.46875 24.109375 47.828125 \nQ 26.265625 48.1875 28.421875 48.1875 \nQ 40.625 48.1875 47.75 41.5 \nQ 54.890625 34.8125 54.890625 23.390625 \nQ 54.890625 11.625 47.5625 5.09375 \nQ 40.234375 -1.421875 26.90625 -1.421875 \nQ 22.3125 -1.421875 17.546875 -0.640625 \nQ 12.796875 0.140625 7.71875 1.703125 \nL 7.71875 11.625 \nQ 12.109375 9.234375 16.796875 8.0625 \nQ 21.484375 6.890625 26.703125 6.890625 \nQ 35.15625 6.890625 40.078125 11.328125 \nQ 45.015625 15.765625 45.015625 23.390625 \nQ 45.015625 31 40.078125 35.4375 \nQ 35.15625 39.890625 26.703125 39.890625 \nQ 22.75 39.890625 18.8125 39.015625 \nQ 14.890625 38.140625 10.796875 36.28125 \nz\n\" id=\"DejaVuSans-53\"/>\n       </defs>\n       <use xlink:href=\"#DejaVuSans-48\"/>\n       <use x=\"63.623047\" xlink:href=\"#DejaVuSans-46\"/>\n       <use x=\"95.410156\" xlink:href=\"#DejaVuSans-51\"/>\n       <use x=\"159.033203\" xlink:href=\"#DejaVuSans-53\"/>\n      </g>\n     </g>\n    </g>\n    <g id=\"xtick_2\">\n     <g id=\"line2d_2\">\n      <g>\n       <use style=\"stroke:#000000;stroke-width:0.8;\" x=\"125.71188\" xlink:href=\"#mf2e95e3bca\" y=\"224.64\"/>\n      </g>\n     </g>\n     <g id=\"text_2\">\n      <!-- 0.40 -->\n      <g transform=\"translate(114.579068 239.238437)scale(0.1 -0.1)\">\n       <defs>\n        <path d=\"M 37.796875 64.3125 \nL 12.890625 25.390625 \nL 37.796875 25.390625 \nz\nM 35.203125 72.90625 \nL 47.609375 72.90625 \nL 47.609375 25.390625 \nL 58.015625 25.390625 \nL 58.015625 17.1875 \nL 47.609375 17.1875 \nL 47.609375 0 \nL 37.796875 0 \nL 37.796875 17.1875 \nL 4.890625 17.1875 \nL 4.890625 26.703125 \nz\n\" id=\"DejaVuSans-52\"/>\n       </defs>\n       <use xlink:href=\"#DejaVuSans-48\"/>\n       <use x=\"63.623047\" xlink:href=\"#DejaVuSans-46\"/>\n       <use x=\"95.410156\" xlink:href=\"#DejaVuSans-52\"/>\n       <use x=\"159.033203\" xlink:href=\"#DejaVuSans-48\"/>\n      </g>\n     </g>\n    </g>\n    <g id=\"xtick_3\">\n     <g id=\"line2d_3\">\n      <g>\n       <use style=\"stroke:#000000;stroke-width:0.8;\" x=\"172.74344\" xlink:href=\"#mf2e95e3bca\" y=\"224.64\"/>\n      </g>\n     </g>\n     <g id=\"text_3\">\n      <!-- 0.45 -->\n      <g transform=\"translate(161.610628 239.238437)scale(0.1 -0.1)\">\n       <use xlink:href=\"#DejaVuSans-48\"/>\n       <use x=\"63.623047\" xlink:href=\"#DejaVuSans-46\"/>\n       <use x=\"95.410156\" xlink:href=\"#DejaVuSans-52\"/>\n       <use x=\"159.033203\" xlink:href=\"#DejaVuSans-53\"/>\n      </g>\n     </g>\n    </g>\n    <g id=\"xtick_4\">\n     <g id=\"line2d_4\">\n      <g>\n       <use style=\"stroke:#000000;stroke-width:0.8;\" x=\"219.775\" xlink:href=\"#mf2e95e3bca\" y=\"224.64\"/>\n      </g>\n     </g>\n     <g id=\"text_4\">\n      <!-- 0.50 -->\n      <g transform=\"translate(208.642187 239.238437)scale(0.1 -0.1)\">\n       <use xlink:href=\"#DejaVuSans-48\"/>\n       <use x=\"63.623047\" xlink:href=\"#DejaVuSans-46\"/>\n       <use x=\"95.410156\" xlink:href=\"#DejaVuSans-53\"/>\n       <use x=\"159.033203\" xlink:href=\"#DejaVuSans-48\"/>\n      </g>\n     </g>\n    </g>\n    <g id=\"xtick_5\">\n     <g id=\"line2d_5\">\n      <g>\n       <use style=\"stroke:#000000;stroke-width:0.8;\" x=\"266.80656\" xlink:href=\"#mf2e95e3bca\" y=\"224.64\"/>\n      </g>\n     </g>\n     <g id=\"text_5\">\n      <!-- 0.55 -->\n      <g transform=\"translate(255.673747 239.238437)scale(0.1 -0.1)\">\n       <use xlink:href=\"#DejaVuSans-48\"/>\n       <use x=\"63.623047\" xlink:href=\"#DejaVuSans-46\"/>\n       <use x=\"95.410156\" xlink:href=\"#DejaVuSans-53\"/>\n       <use x=\"159.033203\" xlink:href=\"#DejaVuSans-53\"/>\n      </g>\n     </g>\n    </g>\n    <g id=\"xtick_6\">\n     <g id=\"line2d_6\">\n      <g>\n       <use style=\"stroke:#000000;stroke-width:0.8;\" x=\"313.83812\" xlink:href=\"#mf2e95e3bca\" y=\"224.64\"/>\n      </g>\n     </g>\n     <g id=\"text_6\">\n      <!-- 0.60 -->\n      <g transform=\"translate(302.705307 239.238437)scale(0.1 -0.1)\">\n       <defs>\n        <path d=\"M 33.015625 40.375 \nQ 26.375 40.375 22.484375 35.828125 \nQ 18.609375 31.296875 18.609375 23.390625 \nQ 18.609375 15.53125 22.484375 10.953125 \nQ 26.375 6.390625 33.015625 6.390625 \nQ 39.65625 6.390625 43.53125 10.953125 \nQ 47.40625 15.53125 47.40625 23.390625 \nQ 47.40625 31.296875 43.53125 35.828125 \nQ 39.65625 40.375 33.015625 40.375 \nz\nM 52.59375 71.296875 \nL 52.59375 62.3125 \nQ 48.875 64.0625 45.09375 64.984375 \nQ 41.3125 65.921875 37.59375 65.921875 \nQ 27.828125 65.921875 22.671875 59.328125 \nQ 17.53125 52.734375 16.796875 39.40625 \nQ 19.671875 43.65625 24.015625 45.921875 \nQ 28.375 48.1875 33.59375 48.1875 \nQ 44.578125 48.1875 50.953125 41.515625 \nQ 57.328125 34.859375 57.328125 23.390625 \nQ 57.328125 12.15625 50.6875 5.359375 \nQ 44.046875 -1.421875 33.015625 -1.421875 \nQ 20.359375 -1.421875 13.671875 8.265625 \nQ 6.984375 17.96875 6.984375 36.375 \nQ 6.984375 53.65625 15.1875 63.9375 \nQ 23.390625 74.21875 37.203125 74.21875 \nQ 40.921875 74.21875 44.703125 73.484375 \nQ 48.484375 72.75 52.59375 71.296875 \nz\n\" id=\"DejaVuSans-54\"/>\n       </defs>\n       <use xlink:href=\"#DejaVuSans-48\"/>\n       <use x=\"63.623047\" xlink:href=\"#DejaVuSans-46\"/>\n       <use x=\"95.410156\" xlink:href=\"#DejaVuSans-54\"/>\n       <use x=\"159.033203\" xlink:href=\"#DejaVuSans-48\"/>\n      </g>\n     </g>\n    </g>\n    <g id=\"xtick_7\">\n     <g id=\"line2d_7\">\n      <g>\n       <use style=\"stroke:#000000;stroke-width:0.8;\" x=\"360.869679\" xlink:href=\"#mf2e95e3bca\" y=\"224.64\"/>\n      </g>\n     </g>\n     <g id=\"text_7\">\n      <!-- 0.65 -->\n      <g transform=\"translate(349.736867 239.238437)scale(0.1 -0.1)\">\n       <use xlink:href=\"#DejaVuSans-48\"/>\n       <use x=\"63.623047\" xlink:href=\"#DejaVuSans-46\"/>\n       <use x=\"95.410156\" xlink:href=\"#DejaVuSans-54\"/>\n       <use x=\"159.033203\" xlink:href=\"#DejaVuSans-53\"/>\n      </g>\n     </g>\n    </g>\n   </g>\n   <g id=\"matplotlib.axis_2\">\n    <g id=\"ytick_1\">\n     <g id=\"line2d_8\">\n      <defs>\n       <path d=\"M 0 0 \nL -3.5 0 \n\" id=\"ma256e06af9\" style=\"stroke:#000000;stroke-width:0.8;\"/>\n      </defs>\n      <g>\n       <use style=\"stroke:#000000;stroke-width:0.8;\" x=\"52.375\" xlink:href=\"#ma256e06af9\" y=\"224.64\"/>\n      </g>\n     </g>\n     <g id=\"text_8\">\n      <!-- 0 -->\n      <g transform=\"translate(39.0125 228.439219)scale(0.1 -0.1)\">\n       <use xlink:href=\"#DejaVuSans-48\"/>\n      </g>\n     </g>\n    </g>\n    <g id=\"ytick_2\">\n     <g id=\"line2d_9\">\n      <g>\n       <use style=\"stroke:#000000;stroke-width:0.8;\" x=\"52.375\" xlink:href=\"#ma256e06af9\" y=\"196.993257\"/>\n      </g>\n     </g>\n     <g id=\"text_9\">\n      <!-- 50000 -->\n      <g transform=\"translate(13.5625 200.792476)scale(0.1 -0.1)\">\n       <use xlink:href=\"#DejaVuSans-53\"/>\n       <use x=\"63.623047\" xlink:href=\"#DejaVuSans-48\"/>\n       <use x=\"127.246094\" xlink:href=\"#DejaVuSans-48\"/>\n       <use x=\"190.869141\" xlink:href=\"#DejaVuSans-48\"/>\n       <use x=\"254.492188\" xlink:href=\"#DejaVuSans-48\"/>\n      </g>\n     </g>\n    </g>\n    <g id=\"ytick_3\">\n     <g id=\"line2d_10\">\n      <g>\n       <use style=\"stroke:#000000;stroke-width:0.8;\" x=\"52.375\" xlink:href=\"#ma256e06af9\" y=\"169.346515\"/>\n      </g>\n     </g>\n     <g id=\"text_10\">\n      <!-- 100000 -->\n      <g transform=\"translate(7.2 173.145733)scale(0.1 -0.1)\">\n       <defs>\n        <path d=\"M 12.40625 8.296875 \nL 28.515625 8.296875 \nL 28.515625 63.921875 \nL 10.984375 60.40625 \nL 10.984375 69.390625 \nL 28.421875 72.90625 \nL 38.28125 72.90625 \nL 38.28125 8.296875 \nL 54.390625 8.296875 \nL 54.390625 0 \nL 12.40625 0 \nz\n\" id=\"DejaVuSans-49\"/>\n       </defs>\n       <use xlink:href=\"#DejaVuSans-49\"/>\n       <use x=\"63.623047\" xlink:href=\"#DejaVuSans-48\"/>\n       <use x=\"127.246094\" xlink:href=\"#DejaVuSans-48\"/>\n       <use x=\"190.869141\" xlink:href=\"#DejaVuSans-48\"/>\n       <use x=\"254.492188\" xlink:href=\"#DejaVuSans-48\"/>\n       <use x=\"318.115234\" xlink:href=\"#DejaVuSans-48\"/>\n      </g>\n     </g>\n    </g>\n    <g id=\"ytick_4\">\n     <g id=\"line2d_11\">\n      <g>\n       <use style=\"stroke:#000000;stroke-width:0.8;\" x=\"52.375\" xlink:href=\"#ma256e06af9\" y=\"141.699772\"/>\n      </g>\n     </g>\n     <g id=\"text_11\">\n      <!-- 150000 -->\n      <g transform=\"translate(7.2 145.498991)scale(0.1 -0.1)\">\n       <use xlink:href=\"#DejaVuSans-49\"/>\n       <use x=\"63.623047\" xlink:href=\"#DejaVuSans-53\"/>\n       <use x=\"127.246094\" xlink:href=\"#DejaVuSans-48\"/>\n       <use x=\"190.869141\" xlink:href=\"#DejaVuSans-48\"/>\n       <use x=\"254.492188\" xlink:href=\"#DejaVuSans-48\"/>\n       <use x=\"318.115234\" xlink:href=\"#DejaVuSans-48\"/>\n      </g>\n     </g>\n    </g>\n    <g id=\"ytick_5\">\n     <g id=\"line2d_12\">\n      <g>\n       <use style=\"stroke:#000000;stroke-width:0.8;\" x=\"52.375\" xlink:href=\"#ma256e06af9\" y=\"114.053029\"/>\n      </g>\n     </g>\n     <g id=\"text_12\">\n      <!-- 200000 -->\n      <g transform=\"translate(7.2 117.852248)scale(0.1 -0.1)\">\n       <defs>\n        <path d=\"M 19.1875 8.296875 \nL 53.609375 8.296875 \nL 53.609375 0 \nL 7.328125 0 \nL 7.328125 8.296875 \nQ 12.9375 14.109375 22.625 23.890625 \nQ 32.328125 33.6875 34.8125 36.53125 \nQ 39.546875 41.84375 41.421875 45.53125 \nQ 43.3125 49.21875 43.3125 52.78125 \nQ 43.3125 58.59375 39.234375 62.25 \nQ 35.15625 65.921875 28.609375 65.921875 \nQ 23.96875 65.921875 18.8125 64.3125 \nQ 13.671875 62.703125 7.8125 59.421875 \nL 7.8125 69.390625 \nQ 13.765625 71.78125 18.9375 73 \nQ 24.125 74.21875 28.421875 74.21875 \nQ 39.75 74.21875 46.484375 68.546875 \nQ 53.21875 62.890625 53.21875 53.421875 \nQ 53.21875 48.921875 51.53125 44.890625 \nQ 49.859375 40.875 45.40625 35.40625 \nQ 44.1875 33.984375 37.640625 27.21875 \nQ 31.109375 20.453125 19.1875 8.296875 \nz\n\" id=\"DejaVuSans-50\"/>\n       </defs>\n       <use xlink:href=\"#DejaVuSans-50\"/>\n       <use x=\"63.623047\" xlink:href=\"#DejaVuSans-48\"/>\n       <use x=\"127.246094\" xlink:href=\"#DejaVuSans-48\"/>\n       <use x=\"190.869141\" xlink:href=\"#DejaVuSans-48\"/>\n       <use x=\"254.492188\" xlink:href=\"#DejaVuSans-48\"/>\n       <use x=\"318.115234\" xlink:href=\"#DejaVuSans-48\"/>\n      </g>\n     </g>\n    </g>\n    <g id=\"ytick_6\">\n     <g id=\"line2d_13\">\n      <g>\n       <use style=\"stroke:#000000;stroke-width:0.8;\" x=\"52.375\" xlink:href=\"#ma256e06af9\" y=\"86.406287\"/>\n      </g>\n     </g>\n     <g id=\"text_13\">\n      <!-- 250000 -->\n      <g transform=\"translate(7.2 90.205505)scale(0.1 -0.1)\">\n       <use xlink:href=\"#DejaVuSans-50\"/>\n       <use x=\"63.623047\" xlink:href=\"#DejaVuSans-53\"/>\n       <use x=\"127.246094\" xlink:href=\"#DejaVuSans-48\"/>\n       <use x=\"190.869141\" xlink:href=\"#DejaVuSans-48\"/>\n       <use x=\"254.492188\" xlink:href=\"#DejaVuSans-48\"/>\n       <use x=\"318.115234\" xlink:href=\"#DejaVuSans-48\"/>\n      </g>\n     </g>\n    </g>\n    <g id=\"ytick_7\">\n     <g id=\"line2d_14\">\n      <g>\n       <use style=\"stroke:#000000;stroke-width:0.8;\" x=\"52.375\" xlink:href=\"#ma256e06af9\" y=\"58.759544\"/>\n      </g>\n     </g>\n     <g id=\"text_14\">\n      <!-- 300000 -->\n      <g transform=\"translate(7.2 62.558763)scale(0.1 -0.1)\">\n       <use xlink:href=\"#DejaVuSans-51\"/>\n       <use x=\"63.623047\" xlink:href=\"#DejaVuSans-48\"/>\n       <use x=\"127.246094\" xlink:href=\"#DejaVuSans-48\"/>\n       <use x=\"190.869141\" xlink:href=\"#DejaVuSans-48\"/>\n       <use x=\"254.492188\" xlink:href=\"#DejaVuSans-48\"/>\n       <use x=\"318.115234\" xlink:href=\"#DejaVuSans-48\"/>\n      </g>\n     </g>\n    </g>\n    <g id=\"ytick_8\">\n     <g id=\"line2d_15\">\n      <g>\n       <use style=\"stroke:#000000;stroke-width:0.8;\" x=\"52.375\" xlink:href=\"#ma256e06af9\" y=\"31.112801\"/>\n      </g>\n     </g>\n     <g id=\"text_15\">\n      <!-- 350000 -->\n      <g transform=\"translate(7.2 34.91202)scale(0.1 -0.1)\">\n       <use xlink:href=\"#DejaVuSans-51\"/>\n       <use x=\"63.623047\" xlink:href=\"#DejaVuSans-53\"/>\n       <use x=\"127.246094\" xlink:href=\"#DejaVuSans-48\"/>\n       <use x=\"190.869141\" xlink:href=\"#DejaVuSans-48\"/>\n       <use x=\"254.492188\" xlink:href=\"#DejaVuSans-48\"/>\n       <use x=\"318.115234\" xlink:href=\"#DejaVuSans-48\"/>\n      </g>\n     </g>\n    </g>\n   </g>\n   <g id=\"patch_23\">\n    <path d=\"M 52.375 224.64 \nL 52.375 7.2 \n\" style=\"fill:none;stroke:#000000;stroke-linecap:square;stroke-linejoin:miter;stroke-width:0.8;\"/>\n   </g>\n   <g id=\"patch_24\">\n    <path d=\"M 387.175 224.64 \nL 387.175 7.2 \n\" style=\"fill:none;stroke:#000000;stroke-linecap:square;stroke-linejoin:miter;stroke-width:0.8;\"/>\n   </g>\n   <g id=\"patch_25\">\n    <path d=\"M 52.375 224.64 \nL 387.175 224.64 \n\" style=\"fill:none;stroke:#000000;stroke-linecap:square;stroke-linejoin:miter;stroke-width:0.8;\"/>\n   </g>\n   <g id=\"patch_26\">\n    <path d=\"M 52.375 7.2 \nL 387.175 7.2 \n\" style=\"fill:none;stroke:#000000;stroke-linecap:square;stroke-linejoin:miter;stroke-width:0.8;\"/>\n   </g>\n  </g>\n </g>\n <defs>\n  <clipPath id=\"p02d7026043\">\n   <rect height=\"217.44\" width=\"334.8\" x=\"52.375\" y=\"7.2\"/>\n  </clipPath>\n </defs>\n</svg>\n",
      "image/png": "[encoded data removed]"
     },
     "metadata": {
      "needs_background": "light"
     }
    }
   ],
   "source": [
    "plt.hist(predictions)\n",
    "np.unique(predictions)"
   ]
  },
  {
   "cell_type": "code",
   "execution_count": null,
   "metadata": {},
   "outputs": [],
   "source": []
  }
 ]
}