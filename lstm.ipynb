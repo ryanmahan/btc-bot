{
 "metadata": {
  "language_info": {
   "codemirror_mode": {
    "name": "ipython",
    "version": 3
   },
   "file_extension": ".py",
   "mimetype": "text/x-python",
   "name": "python",
   "nbconvert_exporter": "python",
   "pygments_lexer": "ipython3",
   "version": "3.8.6-final"
  },
  "orig_nbformat": 2,
  "kernelspec": {
   "name": "python3",
   "display_name": "Python 3",
   "language": "python"
  }
 },
 "nbformat": 4,
 "nbformat_minor": 2,
 "cells": [
  {
   "source": [
    "import pandas as pd \n",
    "import os, glob\n",
    "import matplotlib.pyplot as plt \n",
    "import numpy as np\n",
    "from tensorflow.keras.preprocessing import timeseries_dataset_from_array\n",
    "from tensorflow.keras.preprocessing.sequence import TimeseriesGenerator"
   ],
   "cell_type": "code",
   "metadata": {},
   "execution_count": 10,
   "outputs": []
  },
  {
   "cell_type": "code",
   "execution_count": 11,
   "metadata": {},
   "outputs": [
    {
     "output_type": "stream",
     "name": "stderr",
     "text": [
      "/usr/local/lib/python3.6/dist-packages/ipykernel_launcher.py:7: RuntimeWarning: divide by zero encountered in log10\n  import sys\n/usr/local/lib/python3.6/dist-packages/ipykernel_launcher.py:7: RuntimeWarning: invalid value encountered in log10\n  import sys\n"
     ]
    },
    {
     "output_type": "execute_result",
     "data": {
      "text/plain": [
       "Open      float64\n",
       "Close     float64\n",
       "Volume    float64\n",
       "High      float64\n",
       "Low       float64\n",
       "diff      float64\n",
       "inc         int64\n",
       "dtype: object"
      ]
     },
     "metadata": {},
     "execution_count": 11
    }
   ],
   "source": [
    "df = pd.concat((pd.read_csv(f, engine=\"python\") for f in glob.glob(r\"gemini_BTCUSD_20[12][90]*.csv\")))\n",
    "df[\"Date\"] = pd.to_datetime(df[\"Date\"], format=\"%Y-%m-%d %H:%M:%S\")\n",
    "df = df.drop([\"Symbol\", \"Unix Timestamp\"], axis=1)\n",
    "df = df.resample(\"1T\", on=\"Date\").agg({\"Open\": \"first\", \"Close\": \"last\", \"Volume\": np.sum, \"High\": np.max, \"Low\": np.min})\n",
    "\n",
    "# df = df.drop(\"Date\", axis=1)\n",
    "df[\"diff\"] = np.log10(((df[\"Close\"] - df[\"Open\"])/df[\"Close\"])*100.values)\n",
    "df[\"inc\"] = df[\"diff\"].apply(lambda x: 1 if x > 0 else 0)\n",
    "df.drop\n",
    "df.head()\n",
    "df.dropna()\n",
    "df.dtypes"
   ]
  },
  {
   "cell_type": "code",
   "execution_count": 12,
   "metadata": {},
   "outputs": [],
   "source": [
    "def split_dataset(dataset, split=2/3):\n",
    "    train_size = int(len(dataset) * split)\n",
    "    test_size = len(dataset) - train_size\n",
    "    print(train_size, test_size)\n",
    "    train = dataset[:train_size]\n",
    "    test = dataset[train_size:]\n",
    "    return train, test"
   ]
  },
  {
   "cell_type": "code",
   "execution_count": 13,
   "metadata": {},
   "outputs": [
    {
     "output_type": "stream",
     "name": "stdout",
     "text": [
      "749762 374881\n                         diff  inc\nDate                              \n2019-01-01 00:00:00 -3.144369    0\n2019-01-01 00:01:00       NaN    0\n2019-01-01 00:02:00       NaN    0\n2019-01-01 00:03:00 -3.334173    0\n2019-01-01 00:04:00      -inf    0\n5858\n[[       -inf  0.        ]\n [       -inf  0.        ]\n [-3.83345406  0.        ]\n [       -inf  0.        ]\n [       -inf  0.        ]\n [       -inf  0.        ]\n [       -inf  0.        ]\n [       -inf  0.        ]\n [        nan  0.        ]\n [        nan  0.        ]\n [        nan  0.        ]\n [        nan  0.        ]\n [-3.26258803  0.        ]\n [        nan  0.        ]\n [       -inf  0.        ]\n [        nan  0.        ]\n [       -inf  0.        ]\n [       -inf  0.        ]\n [        nan  0.        ]\n [-2.14576418  0.        ]\n [        nan  0.        ]\n [       -inf  0.        ]\n [-2.96542272  0.        ]\n [       -inf  0.        ]\n [        nan  0.        ]\n [       -inf  0.        ]\n [        nan  0.        ]\n [-3.93170261  0.        ]\n [       -inf  0.        ]\n [        nan  0.        ]]\n-inf\n"
     ]
    }
   ],
   "source": [
    "df = df.drop([\"Volume\", \"Low\", \"High\", \"Open\", \"Close\"], axis=1)\n",
    "train, test = split_dataset(df);\n",
    "print(train.head())\n",
    "y = train[\"diff\"]\n",
    "len(train)\n",
    "train_generator = TimeseriesGenerator(train.to_numpy(), train[\"diff\"], length=30, batch_size=128)\n",
    "test_generator = TimeseriesGenerator(test.to_numpy(), test[\"diff\"], length=30, batch_size=128)\n",
    "print(len(train_generator))\n",
    "print(train_generator[1][0][0])\n",
    "print(train_generator[1][1][0])"
   ]
  },
  {
   "cell_type": "code",
   "execution_count": 14,
   "metadata": {},
   "outputs": [
    {
     "output_type": "stream",
     "name": "stdout",
     "text": [
      "5858/5858 [==============================] - 48s 8ms/step - loss: nan\n",
      "Model: \"sequential\"\n",
      "_________________________________________________________________\n",
      "Layer (type)                 Output Shape              Param #   \n",
      "=================================================================\n",
      "bidirectional (Bidirectional (None, None, 256)         134144    \n",
      "_________________________________________________________________\n",
      "lstm_1 (LSTM)                (None, 64)                82176     \n",
      "_________________________________________________________________\n",
      "dropout (Dropout)            (None, 64)                0         \n",
      "_________________________________________________________________\n",
      "dense (Dense)                (None, 64)                4160      \n",
      "_________________________________________________________________\n",
      "dense_1 (Dense)              (None, 32)                2080      \n",
      "_________________________________________________________________\n",
      "dense_2 (Dense)              (None, 16)                528       \n",
      "_________________________________________________________________\n",
      "dense_3 (Dense)              (None, 1)                 17        \n",
      "=================================================================\n",
      "Total params: 223,105\n",
      "Trainable params: 223,105\n",
      "Non-trainable params: 0\n",
      "_________________________________________________________________\n"
     ]
    }
   ],
   "source": [
    "from tensorflow.keras import models\n",
    "from tensorflow.keras.layers import Input, Dense, Bidirectional, LSTM, BatchNormalization, Dropout\n",
    "from tensorflow.keras import regularizers\n",
    "from tensorflow.keras.losses import BinaryCrossentropy, MeanSquaredError\n",
    "\n",
    "\n",
    "model = models.Sequential()\n",
    "model.add(Bidirectional(LSTM(units=128, return_sequences=True)))\n",
    "model.add(LSTM(units=64))\n",
    "model.add(Dropout(.1))\n",
    "model.add(Dense(64, activation=\"relu\"))\n",
    "model.add(Dense(32, activation=\"linear\"))\n",
    "model.add(Dense(16, activation=\"linear\"))\n",
    "model.add(Dense(1, activation=\"linear\"))\n",
    "model.compile(\"adam\", MeanSquaredError())\n",
    "model.fit(train_generator, epochs=1)\n",
    "model.summary()\n"
   ]
  },
  {
   "cell_type": "code",
   "execution_count": 15,
   "metadata": {},
   "outputs": [],
   "source": [
    "predictions = model.predict(test_generator)"
   ]
  },
  {
   "cell_type": "code",
   "execution_count": 16,
   "metadata": {},
   "outputs": [
    {
     "output_type": "execute_result",
     "data": {
      "text/plain": [
       "array([[nan],\n",
       "       [nan],\n",
       "       [nan],\n",
       "       ...,\n",
       "       [nan],\n",
       "       [nan],\n",
       "       [nan]], dtype=float32)"
      ]
     },
     "metadata": {},
     "execution_count": 16
    }
   ],
   "source": [
    "# plt.hist(predictions)\n",
    "predictions"
   ]
  },
  {
   "cell_type": "code",
   "execution_count": null,
   "metadata": {},
   "outputs": [],
   "source": []
  }
 ]
}