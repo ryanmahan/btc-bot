{
 "metadata": {
  "language_info": {
   "codemirror_mode": {
    "name": "ipython",
    "version": 3
   },
   "file_extension": ".py",
   "mimetype": "text/x-python",
   "name": "python",
   "nbconvert_exporter": "python",
   "pygments_lexer": "ipython3",
   "version": "3.8.6-final"
  },
  "orig_nbformat": 2,
  "kernelspec": {
   "name": "python3",
   "display_name": "Python 3",
   "language": "python"
  }
 },
 "nbformat": 4,
 "nbformat_minor": 2,
 "cells": [
  {
   "cell_type": "code",
   "execution_count": 1,
   "metadata": {},
   "outputs": [],
   "source": [
    "import pandas as pd \n",
    "import os, glob\n",
    "import matplotlib.pyplot as plt \n",
    "import numpy as np"
   ]
  },
  {
   "cell_type": "code",
   "execution_count": 4,
   "metadata": {},
   "outputs": [
    {
     "output_type": "stream",
     "name": "stdout",
     "text": [
      "Date      datetime64[ns]\nOpen             float64\nHigh             float64\nLow              float64\nClose            float64\nVolume           float64\ndtype: object\n"
     ]
    },
    {
     "output_type": "execute_result",
     "data": {
      "text/plain": [
       "                 Date      Open      High       Low     Close     Volume\n",
       "0 2021-02-20 00:02:00  56178.00  56200.00  56141.15  56200.00   4.708759\n",
       "1 2021-02-20 00:01:00  56034.59  56178.00  56034.59  56178.00   2.000919\n",
       "2 2021-02-20 00:00:00  55984.59  56102.16  55984.59  56034.59  10.365388\n",
       "3 2021-02-19 23:59:00  55955.70  55984.59  55896.01  55984.59   0.416505\n",
       "4 2021-02-19 23:58:00  55999.97  55999.97  55899.67  55955.70   0.496324\n",
       "5 2021-02-19 23:57:00  55950.51  55999.97  55926.57  55999.97   3.811466\n",
       "6 2021-02-19 23:56:00  55893.14  55954.71  55867.55  55950.51   2.896990\n",
       "7 2021-02-19 23:55:00  55880.01  55923.53  55857.30  55893.14   0.756757\n",
       "8 2021-02-19 23:54:00  55862.03  55880.01  55837.52  55880.01   0.256260\n",
       "9 2021-02-19 23:53:00  55844.76  55923.23  55844.76  55862.03   0.084607"
      ],
      "text/html": "<div>\n<style scoped>\n    .dataframe tbody tr th:only-of-type {\n        vertical-align: middle;\n    }\n\n    .dataframe tbody tr th {\n        vertical-align: top;\n    }\n\n    .dataframe thead th {\n        text-align: right;\n    }\n</style>\n<table border=\"1\" class=\"dataframe\">\n  <thead>\n    <tr style=\"text-align: right;\">\n      <th></th>\n      <th>Date</th>\n      <th>Open</th>\n      <th>High</th>\n      <th>Low</th>\n      <th>Close</th>\n      <th>Volume</th>\n    </tr>\n  </thead>\n  <tbody>\n    <tr>\n      <th>0</th>\n      <td>2021-02-20 00:02:00</td>\n      <td>56178.00</td>\n      <td>56200.00</td>\n      <td>56141.15</td>\n      <td>56200.00</td>\n      <td>4.708759</td>\n    </tr>\n    <tr>\n      <th>1</th>\n      <td>2021-02-20 00:01:00</td>\n      <td>56034.59</td>\n      <td>56178.00</td>\n      <td>56034.59</td>\n      <td>56178.00</td>\n      <td>2.000919</td>\n    </tr>\n    <tr>\n      <th>2</th>\n      <td>2021-02-20 00:00:00</td>\n      <td>55984.59</td>\n      <td>56102.16</td>\n      <td>55984.59</td>\n      <td>56034.59</td>\n      <td>10.365388</td>\n    </tr>\n    <tr>\n      <th>3</th>\n      <td>2021-02-19 23:59:00</td>\n      <td>55955.70</td>\n      <td>55984.59</td>\n      <td>55896.01</td>\n      <td>55984.59</td>\n      <td>0.416505</td>\n    </tr>\n    <tr>\n      <th>4</th>\n      <td>2021-02-19 23:58:00</td>\n      <td>55999.97</td>\n      <td>55999.97</td>\n      <td>55899.67</td>\n      <td>55955.70</td>\n      <td>0.496324</td>\n    </tr>\n    <tr>\n      <th>5</th>\n      <td>2021-02-19 23:57:00</td>\n      <td>55950.51</td>\n      <td>55999.97</td>\n      <td>55926.57</td>\n      <td>55999.97</td>\n      <td>3.811466</td>\n    </tr>\n    <tr>\n      <th>6</th>\n      <td>2021-02-19 23:56:00</td>\n      <td>55893.14</td>\n      <td>55954.71</td>\n      <td>55867.55</td>\n      <td>55950.51</td>\n      <td>2.896990</td>\n    </tr>\n    <tr>\n      <th>7</th>\n      <td>2021-02-19 23:55:00</td>\n      <td>55880.01</td>\n      <td>55923.53</td>\n      <td>55857.30</td>\n      <td>55893.14</td>\n      <td>0.756757</td>\n    </tr>\n    <tr>\n      <th>8</th>\n      <td>2021-02-19 23:54:00</td>\n      <td>55862.03</td>\n      <td>55880.01</td>\n      <td>55837.52</td>\n      <td>55880.01</td>\n      <td>0.256260</td>\n    </tr>\n    <tr>\n      <th>9</th>\n      <td>2021-02-19 23:53:00</td>\n      <td>55844.76</td>\n      <td>55923.23</td>\n      <td>55844.76</td>\n      <td>55862.03</td>\n      <td>0.084607</td>\n    </tr>\n  </tbody>\n</table>\n</div>"
     },
     "metadata": {},
     "execution_count": 4
    }
   ],
   "source": [
    "df = pd.concat((pd.read_csv(f, engine=\"python\", header=0) for f in glob.glob(r\"gemini_BTCUSD_20[12][7890]*.csv\")))\n",
    "df[\"Date\"] = pd.to_datetime(df[\"Date\"], format=\"%Y-%m-%d %H:%M:%S\")\n",
    "df = df.drop([\"Symbol\", \"Unix Timestamp\"], axis=1)\n",
    "print(df.dtypes)\n",
    "df.head(10)"
   ]
  },
  {
   "cell_type": "code",
   "execution_count": 13,
   "metadata": {},
   "outputs": [
    {
     "output_type": "execute_result",
     "data": {
      "text/plain": [
       "                 Date      Open      High       Low     Close     Volume  \\\n",
       "0 2021-02-20 00:02:00  56178.00  56200.00  56141.15  56200.00   4.708759   \n",
       "1 2021-02-20 00:01:00  56034.59  56178.00  56034.59  56178.00   2.000919   \n",
       "2 2021-02-20 00:00:00  55984.59  56102.16  55984.59  56034.59  10.365388   \n",
       "3 2021-02-19 23:59:00  55955.70  55984.59  55896.01  55984.59   0.416505   \n",
       "4 2021-02-19 23:58:00  55999.97  55999.97  55899.67  55955.70   0.496324   \n",
       "\n",
       "       diff  \n",
       "0  0.000391  \n",
       "1  0.002553  \n",
       "2  0.000892  \n",
       "3  0.000516  \n",
       "4 -0.000791  "
      ],
      "text/html": "<div>\n<style scoped>\n    .dataframe tbody tr th:only-of-type {\n        vertical-align: middle;\n    }\n\n    .dataframe tbody tr th {\n        vertical-align: top;\n    }\n\n    .dataframe thead th {\n        text-align: right;\n    }\n</style>\n<table border=\"1\" class=\"dataframe\">\n  <thead>\n    <tr style=\"text-align: right;\">\n      <th></th>\n      <th>Date</th>\n      <th>Open</th>\n      <th>High</th>\n      <th>Low</th>\n      <th>Close</th>\n      <th>Volume</th>\n      <th>diff</th>\n    </tr>\n  </thead>\n  <tbody>\n    <tr>\n      <th>0</th>\n      <td>2021-02-20 00:02:00</td>\n      <td>56178.00</td>\n      <td>56200.00</td>\n      <td>56141.15</td>\n      <td>56200.00</td>\n      <td>4.708759</td>\n      <td>0.000391</td>\n    </tr>\n    <tr>\n      <th>1</th>\n      <td>2021-02-20 00:01:00</td>\n      <td>56034.59</td>\n      <td>56178.00</td>\n      <td>56034.59</td>\n      <td>56178.00</td>\n      <td>2.000919</td>\n      <td>0.002553</td>\n    </tr>\n    <tr>\n      <th>2</th>\n      <td>2021-02-20 00:00:00</td>\n      <td>55984.59</td>\n      <td>56102.16</td>\n      <td>55984.59</td>\n      <td>56034.59</td>\n      <td>10.365388</td>\n      <td>0.000892</td>\n    </tr>\n    <tr>\n      <th>3</th>\n      <td>2021-02-19 23:59:00</td>\n      <td>55955.70</td>\n      <td>55984.59</td>\n      <td>55896.01</td>\n      <td>55984.59</td>\n      <td>0.416505</td>\n      <td>0.000516</td>\n    </tr>\n    <tr>\n      <th>4</th>\n      <td>2021-02-19 23:58:00</td>\n      <td>55999.97</td>\n      <td>55999.97</td>\n      <td>55899.67</td>\n      <td>55955.70</td>\n      <td>0.496324</td>\n      <td>-0.000791</td>\n    </tr>\n  </tbody>\n</table>\n</div>"
     },
     "metadata": {},
     "execution_count": 13
    }
   ],
   "source": [
    "df[\"diff\"] = (df[\"Close\"] - df[\"Open\"])/df[\"Close\"]\n",
    "df.head()"
   ]
  },
  {
   "cell_type": "code",
   "execution_count": 50,
   "metadata": {},
   "outputs": [],
   "source": [
    "def split_dataset(dataset, split=2/3):\n",
    "    train_size = int(len(dataset) * split)\n",
    "    test_size = len(dataset) - train_size\n",
    "    print(train_size, test_size)\n",
    "    train = dataset[:train_size]\n",
    "    test = dataset[train_size:]\n",
    "    return train, test\n",
    "\n",
    "def create_lookback(dataset, look_back=1):\n",
    "\tdataX, dataY = pd.DataFrame(), pd.DataFrame()\n",
    "\tfor i in range(len(dataset)-look_back-1):\n",
    "\t\ta = dataset[i:(i+look_back)]\n",
    "\t\tdataX.append(a)\n",
    "\t\tdataY.append(dataset.iloc(i + look_back)[\"diff\"])\n",
    "\treturn np.array(dataX), np.array(dataY)"
   ]
  },
  {
   "cell_type": "code",
   "execution_count": 51,
   "metadata": {},
   "outputs": [
    {
     "output_type": "stream",
     "name": "stdout",
     "text": [
      "1381767 690884\n"
     ]
    },
    {
     "output_type": "error",
     "ename": "ValueError",
     "evalue": "No axis named 5 for object type DataFrame",
     "traceback": [
      "\u001b[0;31m---------------------------------------------------------------------------\u001b[0m",
      "\u001b[0;31mKeyError\u001b[0m                                  Traceback (most recent call last)",
      "\u001b[0;32m/usr/local/lib/python3.6/dist-packages/pandas/core/generic.py\u001b[0m in \u001b[0;36m_get_axis_number\u001b[0;34m(cls, axis)\u001b[0m\n\u001b[1;32m    367\u001b[0m         \u001b[0;32mtry\u001b[0m\u001b[0;34m:\u001b[0m\u001b[0;34m\u001b[0m\u001b[0;34m\u001b[0m\u001b[0m\n\u001b[0;32m--> 368\u001b[0;31m             \u001b[0;32mreturn\u001b[0m \u001b[0mcls\u001b[0m\u001b[0;34m.\u001b[0m\u001b[0m_AXIS_TO_AXIS_NUMBER\u001b[0m\u001b[0;34m[\u001b[0m\u001b[0maxis\u001b[0m\u001b[0;34m]\u001b[0m\u001b[0;34m\u001b[0m\u001b[0;34m\u001b[0m\u001b[0m\n\u001b[0m\u001b[1;32m    369\u001b[0m         \u001b[0;32mexcept\u001b[0m \u001b[0mKeyError\u001b[0m\u001b[0;34m:\u001b[0m\u001b[0;34m\u001b[0m\u001b[0;34m\u001b[0m\u001b[0m\n",
      "\u001b[0;31mKeyError\u001b[0m: 5",
      "\nDuring handling of the above exception, another exception occurred:\n",
      "\u001b[0;31mValueError\u001b[0m                                Traceback (most recent call last)",
      "\u001b[0;32m<ipython-input-51-27a1e22a2163>\u001b[0m in \u001b[0;36m<module>\u001b[0;34m\u001b[0m\n\u001b[1;32m      1\u001b[0m \u001b[0mtrain\u001b[0m\u001b[0;34m,\u001b[0m \u001b[0mtest\u001b[0m \u001b[0;34m=\u001b[0m \u001b[0msplit_dataset\u001b[0m\u001b[0;34m(\u001b[0m\u001b[0mdf\u001b[0m\u001b[0;34m)\u001b[0m\u001b[0;34m;\u001b[0m\u001b[0;34m\u001b[0m\u001b[0;34m\u001b[0m\u001b[0m\n\u001b[1;32m      2\u001b[0m \u001b[0mlookback\u001b[0m \u001b[0;34m=\u001b[0m \u001b[0;36m5\u001b[0m\u001b[0;34m\u001b[0m\u001b[0;34m\u001b[0m\u001b[0m\n\u001b[0;32m----> 3\u001b[0;31m \u001b[0mtrainX\u001b[0m\u001b[0;34m,\u001b[0m \u001b[0mtrainY\u001b[0m \u001b[0;34m=\u001b[0m \u001b[0mcreate_lookback\u001b[0m\u001b[0;34m(\u001b[0m\u001b[0mtrain\u001b[0m\u001b[0;34m,\u001b[0m \u001b[0mlookback\u001b[0m\u001b[0;34m)\u001b[0m\u001b[0;34m\u001b[0m\u001b[0;34m\u001b[0m\u001b[0m\n\u001b[0m\u001b[1;32m      4\u001b[0m \u001b[0mtestX\u001b[0m\u001b[0;34m,\u001b[0m \u001b[0mtestY\u001b[0m \u001b[0;34m=\u001b[0m \u001b[0mcreate_lookback\u001b[0m\u001b[0;34m(\u001b[0m\u001b[0mtest\u001b[0m\u001b[0;34m,\u001b[0m \u001b[0mlookback\u001b[0m\u001b[0;34m)\u001b[0m\u001b[0;34m\u001b[0m\u001b[0;34m\u001b[0m\u001b[0m\n\u001b[1;32m      5\u001b[0m \u001b[0;34m\u001b[0m\u001b[0m\n",
      "\u001b[0;32m<ipython-input-50-853b810cc02f>\u001b[0m in \u001b[0;36mcreate_lookback\u001b[0;34m(dataset, look_back)\u001b[0m\n\u001b[1;32m     12\u001b[0m                 \u001b[0ma\u001b[0m \u001b[0;34m=\u001b[0m \u001b[0mdataset\u001b[0m\u001b[0;34m[\u001b[0m\u001b[0mi\u001b[0m\u001b[0;34m:\u001b[0m\u001b[0;34m(\u001b[0m\u001b[0mi\u001b[0m\u001b[0;34m+\u001b[0m\u001b[0mlook_back\u001b[0m\u001b[0;34m)\u001b[0m\u001b[0;34m]\u001b[0m\u001b[0;34m\u001b[0m\u001b[0;34m\u001b[0m\u001b[0m\n\u001b[1;32m     13\u001b[0m                 \u001b[0mdataX\u001b[0m\u001b[0;34m.\u001b[0m\u001b[0mappend\u001b[0m\u001b[0;34m(\u001b[0m\u001b[0ma\u001b[0m\u001b[0;34m)\u001b[0m\u001b[0;34m\u001b[0m\u001b[0;34m\u001b[0m\u001b[0m\n\u001b[0;32m---> 14\u001b[0;31m                 \u001b[0mdataY\u001b[0m\u001b[0;34m.\u001b[0m\u001b[0mappend\u001b[0m\u001b[0;34m(\u001b[0m\u001b[0mdataset\u001b[0m\u001b[0;34m.\u001b[0m\u001b[0miloc\u001b[0m\u001b[0;34m(\u001b[0m\u001b[0mi\u001b[0m \u001b[0;34m+\u001b[0m \u001b[0mlook_back\u001b[0m\u001b[0;34m)\u001b[0m\u001b[0;34m[\u001b[0m\u001b[0;34m\"diff\"\u001b[0m\u001b[0;34m]\u001b[0m\u001b[0;34m)\u001b[0m\u001b[0;34m\u001b[0m\u001b[0;34m\u001b[0m\u001b[0m\n\u001b[0m\u001b[1;32m     15\u001b[0m         \u001b[0;32mreturn\u001b[0m \u001b[0mnp\u001b[0m\u001b[0;34m.\u001b[0m\u001b[0marray\u001b[0m\u001b[0;34m(\u001b[0m\u001b[0mdataX\u001b[0m\u001b[0;34m)\u001b[0m\u001b[0;34m,\u001b[0m \u001b[0mnp\u001b[0m\u001b[0;34m.\u001b[0m\u001b[0marray\u001b[0m\u001b[0;34m(\u001b[0m\u001b[0mdataY\u001b[0m\u001b[0;34m)\u001b[0m\u001b[0;34m\u001b[0m\u001b[0;34m\u001b[0m\u001b[0m\n",
      "\u001b[0;32m/usr/local/lib/python3.6/dist-packages/pandas/core/indexing.py\u001b[0m in \u001b[0;36m__call__\u001b[0;34m(self, axis)\u001b[0m\n\u001b[1;32m    582\u001b[0m \u001b[0;34m\u001b[0m\u001b[0m\n\u001b[1;32m    583\u001b[0m         \u001b[0;32mif\u001b[0m \u001b[0maxis\u001b[0m \u001b[0;32mis\u001b[0m \u001b[0;32mnot\u001b[0m \u001b[0;32mNone\u001b[0m\u001b[0;34m:\u001b[0m\u001b[0;34m\u001b[0m\u001b[0;34m\u001b[0m\u001b[0m\n\u001b[0;32m--> 584\u001b[0;31m             \u001b[0maxis\u001b[0m \u001b[0;34m=\u001b[0m \u001b[0mself\u001b[0m\u001b[0;34m.\u001b[0m\u001b[0mobj\u001b[0m\u001b[0;34m.\u001b[0m\u001b[0m_get_axis_number\u001b[0m\u001b[0;34m(\u001b[0m\u001b[0maxis\u001b[0m\u001b[0;34m)\u001b[0m\u001b[0;34m\u001b[0m\u001b[0;34m\u001b[0m\u001b[0m\n\u001b[0m\u001b[1;32m    585\u001b[0m         \u001b[0mnew_self\u001b[0m\u001b[0;34m.\u001b[0m\u001b[0maxis\u001b[0m \u001b[0;34m=\u001b[0m \u001b[0maxis\u001b[0m\u001b[0;34m\u001b[0m\u001b[0;34m\u001b[0m\u001b[0m\n\u001b[1;32m    586\u001b[0m         \u001b[0;32mreturn\u001b[0m \u001b[0mnew_self\u001b[0m\u001b[0;34m\u001b[0m\u001b[0;34m\u001b[0m\u001b[0m\n",
      "\u001b[0;32m/usr/local/lib/python3.6/dist-packages/pandas/core/generic.py\u001b[0m in \u001b[0;36m_get_axis_number\u001b[0;34m(cls, axis)\u001b[0m\n\u001b[1;32m    368\u001b[0m             \u001b[0;32mreturn\u001b[0m \u001b[0mcls\u001b[0m\u001b[0;34m.\u001b[0m\u001b[0m_AXIS_TO_AXIS_NUMBER\u001b[0m\u001b[0;34m[\u001b[0m\u001b[0maxis\u001b[0m\u001b[0;34m]\u001b[0m\u001b[0;34m\u001b[0m\u001b[0;34m\u001b[0m\u001b[0m\n\u001b[1;32m    369\u001b[0m         \u001b[0;32mexcept\u001b[0m \u001b[0mKeyError\u001b[0m\u001b[0;34m:\u001b[0m\u001b[0;34m\u001b[0m\u001b[0;34m\u001b[0m\u001b[0m\n\u001b[0;32m--> 370\u001b[0;31m             \u001b[0;32mraise\u001b[0m \u001b[0mValueError\u001b[0m\u001b[0;34m(\u001b[0m\u001b[0;34mf\"No axis named {axis} for object type {cls.__name__}\"\u001b[0m\u001b[0;34m)\u001b[0m\u001b[0;34m\u001b[0m\u001b[0;34m\u001b[0m\u001b[0m\n\u001b[0m\u001b[1;32m    371\u001b[0m \u001b[0;34m\u001b[0m\u001b[0m\n\u001b[1;32m    372\u001b[0m     \u001b[0;34m@\u001b[0m\u001b[0mclassmethod\u001b[0m\u001b[0;34m\u001b[0m\u001b[0;34m\u001b[0m\u001b[0m\n",
      "\u001b[0;31mValueError\u001b[0m: No axis named 5 for object type DataFrame"
     ]
    }
   ],
   "source": [
    "train, test = split_dataset(df);\n",
    "lookback = 5\n",
    "trainX, trainY = create_lookback(train, lookback)\n",
    "testX, testY = create_lookback(test, lookback)\n",
    "\n",
    "print(trainX.shape, trainY.shape)\n",
    "trainX[:10], trainY[:10]"
   ]
  },
  {
   "cell_type": "code",
   "execution_count": null,
   "metadata": {},
   "outputs": [],
   "source": [
    "from tf.keras import models\n",
    "from tensorflow.keras.layers import Input, Dense, Bidirectional, LSTM\n",
    "\n",
    "model = models.Sequential()\n",
    "model.add(Input())\n",
    "model.add(LSTM())\n",
    "model.add(Dense(64))\n",
    "model.add(Dense(2))"
   ]
  }
 ]
}